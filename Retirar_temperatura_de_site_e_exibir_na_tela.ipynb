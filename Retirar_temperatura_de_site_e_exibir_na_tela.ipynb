{
  "nbformat": 4,
  "nbformat_minor": 0,
  "metadata": {
    "colab": {
      "provenance": [],
      "authorship_tag": "ABX9TyML8uINC8Qey5M4e1HPMewf",
      "include_colab_link": true
    },
    "kernelspec": {
      "name": "python3",
      "display_name": "Python 3"
    },
    "language_info": {
      "name": "python"
    }
  },
  "cells": [
    {
      "cell_type": "markdown",
      "metadata": {
        "id": "view-in-github",
        "colab_type": "text"
      },
      "source": [
        "<a href=\"https://colab.research.google.com/github/Marcelo1017/Retirar-info-de-temperatura-de-site/blob/main/Retirar_temperatura_de_site_e_exibir_na_tela.ipynb\" target=\"_parent\"><img src=\"https://colab.research.google.com/assets/colab-badge.svg\" alt=\"Open In Colab\"/></a>"
      ]
    },
    {
      "cell_type": "code",
      "source": [
        "import requests\n",
        "from bs4 import BeautifulSoup\n",
        "\n",
        "# Faz a requisição HTTP para o site\n",
        "response = requests.get('https://www.climatempo.com.br/previsao-do-tempo/15-dias/cidade/558/saopaulo-sp')\n",
        "\n",
        "# Verifica se a requisição foi bem-sucedida\n",
        "if response.status_code == 200:\n",
        "    # Obtém o conteúdo HTML da página\n",
        "    html = response.content\n",
        "\n",
        "    # Cria um objeto BeautifulSoup a partir do HTML\n",
        "    soup = BeautifulSoup(html, 'html.parser')\n",
        "\n",
        "    # Procura a temperatura na página HTML\n",
        "    tmomento_element = soup.find(class_='tmomento')\n",
        "    tmomento = tmomento_element.text\n",
        "\n",
        "    # Exibe a temperatura na tela\n",
        "    print(f'A temperatura em São Paulo é {tmomento}.')\n",
        "else:\n",
        "    print('Não foi possível obter a temperatura.')\n"
      ],
      "metadata": {
        "id": "zRiwq1OJE9OM"
      },
      "execution_count": null,
      "outputs": []
    }
  ]
}